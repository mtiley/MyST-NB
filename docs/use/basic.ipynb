{
 "cells": [
  {
   "cell_type": "markdown",
   "metadata": {},
   "source": [
    "# An example Jupyter Notebook\n",
    "\n",
    "This notebook is a demonstration of directly-parsing Jupyter Notebooks into\n",
    "Sphinx using the MyST parser.\n",
    "\n",
    "## Markdown\n",
    "\n",
    "As you can see, markdown is parsed as expected. Embedding images should work as expected.\n",
    "For example, here's the MyST-nb logo:\n",
    "\n",
    "![](../_static/logo.png)\n",
    "\n",
    "because MyST-NB is using the MyST-markdown parser, you can include rich markdown with Sphinx\n",
    "in your notebook.[^note] For example, here's a note block:\n",
    "\n",
    "[^note]: Even footnotes!\n",
    "\n",
    "`````{note}\n",
    "Wow, a note! It was generated with this code:\n",
    "\n",
    "````\n",
    "```{note}\n",
    "Wow, a note!\n",
    "```\n",
    "````\n",
    "`````\n",
    "\n",
    "Other MyST features like **equation numbering** can be included in notebooks:\n",
    "\n",
<<<<<<< HEAD
    "```{math} e^{i\\pi} + 1 = 0\n",
    "---\n",
    "label: euler\n",
    "---\n",
=======
    "```{math}\n",
    "---\n",
    "label: euler\n",
    "---\n",
    "e^{i\\pi} + 1 = 0\n",
>>>>>>> 048d84b8e1fe4b22977abfd916545fb3c061921c
    "```\n",
    "Euler’s identity, equation {math:numref}`euler` was elected one of the most beautiful mathematical formulas.\n",
    "\n",
    "You can see the syntax used for this example [here](https://myst-parser.readthedocs.io/en/latest/using/syntax.html#roles-an-in-line-extension-point).\n",
    "\n",
    "## Code cells and outputs\n",
    "\n",
    "You can run cells, and the cell outputs will be captured and inserted into\n",
    "the resulting Sphinx site.\n",
    "\n",
    "### `__repr__` and HTML outputs\n",
    "\n",
    "For example, here's some simple Python:"
   ]
  },
  {
   "cell_type": "code",
   "execution_count": 1,
   "metadata": {},
   "outputs": [
    {
     "output_type": "execute_result",
     "data": {
      "text/plain": "array([[48.63465886, 90.30842053, 39.37515032,  3.83850379, 99.74789333,\n        64.03269195,  9.92636349, 60.293137  , 41.00806625, 93.1499447 ],\n       [58.21154291, 94.06612617, 67.87906444, 70.6892338 , 20.87008359,\n        20.45930859,  4.60679097, 28.90060104, 14.93158632, 64.84834193],\n       [69.99243622,  6.40757881, 38.41847659, 19.4418357 , 48.90297701,\n        47.74786442, 29.58403155,  6.88552007, 83.28912983, 45.47274349]])"
     },
     "metadata": {},
     "execution_count": 1
    }
   ],
   "source": [
    "import matplotlib.pyplot as plt\n",
    "import numpy as np\n",
    "data = np.random.rand(3, 100) * 100\n",
    "data[:, :10]"
   ]
  },
  {
   "cell_type": "markdown",
   "metadata": {},
   "source": [
    "This will also work with HTML outputs"
   ]
  },
  {
   "cell_type": "code",
   "execution_count": 2,
   "metadata": {},
   "outputs": [
    {
     "data": {
      "text/html": [
       "<div>\n",
       "<style scoped>\n",
       "    .dataframe tbody tr th:only-of-type {\n",
       "        vertical-align: middle;\n",
       "    }\n",
       "\n",
       "    .dataframe tbody tr th {\n",
       "        vertical-align: top;\n",
       "    }\n",
       "\n",
       "    .dataframe thead th {\n",
       "        text-align: right;\n",
       "    }\n",
       "</style>\n",
       "<table border=\"1\" class=\"dataframe\">\n",
       "  <thead>\n",
       "    <tr style=\"text-align: right;\">\n",
       "      <th></th>\n",
       "      <th>a</th>\n",
       "      <th>b</th>\n",
       "      <th>c</th>\n",
       "    </tr>\n",
       "  </thead>\n",
       "  <tbody>\n",
       "    <tr>\n",
       "      <th>0</th>\n",
       "      <td>80.235322</td>\n",
       "      <td>29.669852</td>\n",
       "      <td>89.517064</td>\n",
       "    </tr>\n",
       "    <tr>\n",
       "      <th>1</th>\n",
       "      <td>87.272604</td>\n",
       "      <td>32.329496</td>\n",
       "      <td>25.796916</td>\n",
       "    </tr>\n",
       "    <tr>\n",
       "      <th>2</th>\n",
       "      <td>96.477628</td>\n",
       "      <td>29.639671</td>\n",
       "      <td>17.511599</td>\n",
       "    </tr>\n",
       "    <tr>\n",
       "      <th>3</th>\n",
       "      <td>14.267945</td>\n",
       "      <td>62.485086</td>\n",
       "      <td>24.483357</td>\n",
       "    </tr>\n",
       "    <tr>\n",
       "      <th>4</th>\n",
       "      <td>70.168297</td>\n",
       "      <td>16.232247</td>\n",
       "      <td>5.699548</td>\n",
       "    </tr>\n",
       "  </tbody>\n",
       "</table>\n",
       "</div>"
      ],
      "text/plain": [
       "           a          b          c\n",
       "0  80.235322  29.669852  89.517064\n",
       "1  87.272604  32.329496  25.796916\n",
       "2  96.477628  29.639671  17.511599\n",
       "3  14.267945  62.485086  24.483357\n",
       "4  70.168297  16.232247   5.699548"
      ]
     },
     "execution_count": 2,
     "metadata": {},
     "output_type": "execute_result"
    }
   ],
   "source": [
    "import pandas as pd\n",
    "df = pd.DataFrame(data.T, columns=['a', 'b', 'c'])\n",
    "df.head()"
   ]
  },
  {
   "cell_type": "markdown",
   "metadata": {},
   "source": [
    "This works for error messages as well:"
   ]
  },
  {
   "cell_type": "code",
   "execution_count": 8,
   "metadata": {},
   "outputs": [
    {
     "name": "stdout",
     "output_type": "stream",
     "text": [
      "This will be properly printed...\n"
     ]
    },
    {
     "ename": "NameError",
     "evalue": "name 'thiswont' is not defined",
     "output_type": "error",
     "traceback": [
      "\u001b[0;31m---------------------------------------------------------------------------\u001b[0m",
      "\u001b[0;31mNameError\u001b[0m                                 Traceback (most recent call last)",
      "\u001b[0;32m<ipython-input-8-8f5b3a77886c>\u001b[0m in \u001b[0;36m<module>\u001b[0;34m()\u001b[0m\n\u001b[1;32m      1\u001b[0m \u001b[0mprint\u001b[0m\u001b[0;34m(\u001b[0m\u001b[0;34m\"This will be properly printed...\"\u001b[0m\u001b[0;34m)\u001b[0m\u001b[0;34m\u001b[0m\u001b[0;34m\u001b[0m\u001b[0m\n\u001b[0;32m----> 2\u001b[0;31m \u001b[0mprint\u001b[0m\u001b[0;34m(\u001b[0m\u001b[0mthiswont\u001b[0m\u001b[0;34m)\u001b[0m\u001b[0;34m\u001b[0m\u001b[0;34m\u001b[0m\u001b[0m\n\u001b[0m",
      "\u001b[0;31mNameError\u001b[0m: name 'thiswont' is not defined"
     ]
    }
   ],
   "source": [
    "print(\"This will be properly printed...\")\n",
    "print(thiswont)"
   ]
  },
  {
   "cell_type": "markdown",
   "metadata": {},
   "source": [
    "### Images\n",
    "\n",
    "Images that are generated from your code (e.g., with Matplotlib) will also\n",
    "be embedded."
   ]
  },
  {
   "cell_type": "code",
   "execution_count": 4,
   "metadata": {},
   "outputs": [
    {
     "data": {
      "text/plain": [
       "<matplotlib.collections.PathCollection at 0x7f595cc2d470>"
      ]
     },
     "execution_count": 4,
     "metadata": {},
     "output_type": "execute_result"
    },
    {
     "data": {
      "image/png": "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\n",
      "text/plain": [
       "<Figure size 432x288 with 1 Axes>"
      ]
     },
     "metadata": {
      "needs_background": "light"
     },
     "output_type": "display_data"
    }
   ],
   "source": [
    "fig, ax = plt.subplots()\n",
    "ax.scatter(*data, c=data[2])"
   ]
  },
  {
   "cell_type": "code",
   "execution_count": null,
   "metadata": {},
   "outputs": [],
   "source": []
  }
 ],
 "metadata": {
  "kernelspec": {
   "display_name": "Python 3",
   "language": "python",
   "name": "python3"
  },
  "language_info": {
   "codemirror_mode": {
    "name": "ipython",
    "version": 3
   },
   "file_extension": ".py",
   "mimetype": "text/x-python",
   "name": "python",
   "nbconvert_exporter": "python",
   "pygments_lexer": "ipython3",
   "version": "3.7.5-final"
  },
  "widgets": {
   "application/vnd.jupyter.widget-state+json": {
    "state": {},
    "version_major": 2,
    "version_minor": 0
   }
  }
 },
 "nbformat": 4,
 "nbformat_minor": 4
}